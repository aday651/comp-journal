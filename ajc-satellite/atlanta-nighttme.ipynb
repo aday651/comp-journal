{
 "cells": [
  {
   "cell_type": "code",
   "execution_count": 2,
   "metadata": {},
   "outputs": [],
   "source": [
    "import ee\n",
    "import geemap\n",
    "import pandas as pd\n",
    "import geopandas as gpd\n",
    "\n",
    "ee.Initialize()\n",
    "\n",
    "def pd_shp_to_ee_poly(shp):\n",
    "    \"\"\"Converts Polygon from GeoPandas to a ee.Geometry.Polygon\n",
    "    object suitable for use within Google Earth Engine.\"\"\"\n",
    "    xs, ys = shp.exterior.coords.xy\n",
    "    shp_list = [[x, y] for x, y in zip(xs, ys)]\n",
    "    roi = ee.Geometry.Polygon(shp_list, None, False)\n",
    "    return roi\n",
    "\n",
    "\n",
    "def get_county_roi(county_name):\n",
    "    \"\"\"Returns a ee.Geometry.Polygon object representing\n",
    "    a particular county within Georgia, along with the\n",
    "    centroid of that object.\"\"\"\n",
    "    ga_counties = gpd.read_file(\"ga-counties/Counties_Georgia.shp\")\n",
    "    county_shp = ga_counties[ga_counties[\"NAME10\"] == county_name].geometry.values[0]\n",
    "    xs, ys = county_shp.centroid.coords.xy\n",
    "    county_roi = pd_shp_to_ee_poly(county_shp).simplify(maxError = 1)\n",
    "\n",
    "    return county_roi, (xs[0], ys[0])\n",
    "\n",
    "\n",
    "def union_polygons(poly_ls):\n",
    "    basePoly = poly_ls[0]\n",
    "    for poly in poly_ls[1:]:\n",
    "        basePoly = basePoly.union(poly, maxError = 1)\n",
    "\n",
    "    return basePoly"
   ]
  },
  {
   "cell_type": "code",
   "execution_count": 3,
   "metadata": {},
   "outputs": [],
   "source": [
    "county_list = [\n",
    "    'Cherokee', 'Clayton', 'Cobb', \n",
    "    'DeKalb', 'Douglas', 'Fayette', \n",
    "    'Forsyth', 'Fulton', 'Gwinnett', \n",
    "    'Henry','Rockdale'\n",
    "]\n",
    "\n",
    "ga_counties = gpd.read_file(\"ga-counties/Counties_Georgia.shp\")\n",
    "poly_list = []\n",
    "\n",
    "for county in county_list:\n",
    "    county_shp = ga_counties[ga_counties[\"NAME10\"] == county].geometry.values[0]\n",
    "    poly_list.append(pd_shp_to_ee_poly(county_shp).simplify(maxError = 1))\n",
    "\n",
    "atlanta = union_polygons(poly_list).simplify(maxError = 1)\n",
    "\n",
    "atlanta_city = ee.Geometry.Polygon(\n",
    "    [[-84.8748779, 34.4001112],\n",
    "    [-84.8941040, 33.2869160],\n",
    "    [-83.4439087, 33.3052817],\n",
    "    [-83.4878540, 34.4159734]], None, False\n",
    ")"
   ]
  },
  {
   "cell_type": "code",
   "execution_count": 4,
   "metadata": {},
   "outputs": [],
   "source": [
    "# Image of georgia counties\n",
    "# TODO: Figure out how to make these boundaries white...\n",
    "outline = ee.Image().paint(\n",
    "    featureCollection = ee.FeatureCollection(poly_list), \n",
    "    color = 0,\n",
    "    width = 1\n",
    ")"
   ]
  },
  {
   "cell_type": "code",
   "execution_count": 5,
   "metadata": {},
   "outputs": [],
   "source": [
    "def landsat_atlanta(bands, fname):\n",
    "    collection = geemap.landsat_timeseries(\n",
    "        roi = atlanta, \n",
    "        start_year = 1985, end_year = 2019, \n",
    "        start_date = '06-10', end_date = '09-20'\n",
    "    ).map(lambda image: image.blend(outline))\n",
    "\n",
    "    video_args = {\n",
    "        'dimensions': 768,\n",
    "        'region': atlanta,\n",
    "        'framesPerSecond': 3,\n",
    "        'bands': bands,\n",
    "        'min': 0,\n",
    "        'max': 4000,\n",
    "        'gamma': [1, 1, 1]\n",
    "    }\n",
    "\n",
    "    geemap.download_ee_video(collection, video_args, fname)\n",
    "    geemap.add_text_to_gif(\n",
    "        fname, fname, xy=('92%', '3%'), \n",
    "        text_sequence = 1985, font_size = 20, \n",
    "        font_color = '#ffffff', \n",
    "        add_progress_bar = False\n",
    "    )\n",
    "\n",
    "\n",
    "def naip_atlanta(fname):\n",
    "    collection = geemap.naip_timeseries(\n",
    "        roi = atlanta,\n",
    "        start_year = 2003, end_year = 2021\n",
    "    )\n",
    "\n",
    "    video_args = {\n",
    "        'dimensions': 768,\n",
    "        'region': atlanta,\n",
    "        'framesPerSecond': 2,\n",
    "        'min': 0.0,\n",
    "        'max': 255.0,\n",
    "        'bands': ['R', 'G', 'B'],\n",
    "        'gamma': [1, 1, 1]\n",
    "    }\n",
    "\n",
    "    geemap.download_ee_video(collection, video_args, fname)\n",
    "    geemap.add_text_to_gif(\n",
    "        fname, fname, xy=('92%', '3%'), \n",
    "        text_sequence = 2003, font_size = 20, \n",
    "        font_color = '#ffffff', \n",
    "        add_progress_bar = False\n",
    "    )\n",
    "\n",
    "\n",
    "def landsat_roi(roi, bands, fname):\n",
    "    collection = geemap.landsat_timeseries(\n",
    "        roi = roi, \n",
    "        start_year = 1985, end_year = 2021, \n",
    "        start_date = '06-10', end_date = '09-20'\n",
    "    )\n",
    "\n",
    "    video_args = {\n",
    "        'dimensions': 768,\n",
    "        'region': roi,\n",
    "        'framesPerSecond': 2,\n",
    "        'bands': bands,\n",
    "        'min': 0,\n",
    "        'max': 4000,\n",
    "        'gamma': [1, 1, 1]\n",
    "    }\n",
    "\n",
    "    geemap.download_ee_video(collection, video_args, fname)\n",
    "    geemap.add_text_to_gif(\n",
    "        fname, fname, xy=('92%', '3%'), \n",
    "        text_sequence = 1985, font_size = 20, \n",
    "        font_color = '#ffffff', \n",
    "        add_progress_bar = False\n",
    "    )"
   ]
  },
  {
   "cell_type": "code",
   "execution_count": 15,
   "metadata": {},
   "outputs": [
    {
     "name": "stdout",
     "output_type": "stream",
     "text": [
      "Generating URL...\n",
      "Downloading GIF image from https://earthengine.googleapis.com/v1alpha/projects/earthengine-legacy/videoThumbnails/7e6a4dc98f987d63ac38b28f33c386b9-2dab35c6646ba51e8a844b84cdc5e498:getPixels\n",
      "Please wait ...\n",
      "The GIF image has been saved to: /mnt/c/Users/adavi/Documents/comp-journal/ajc-satellite/vids/georgia-atlanta.gif\n"
     ]
    },
    {
     "data": {
      "application/vnd.jupyter.widget-view+json": {
       "model_id": "12a08a03df9b45aca3827149d335dbf6",
       "version_major": 2,
       "version_minor": 0
      },
      "text/plain": [
       "Output()"
      ]
     },
     "metadata": {},
     "output_type": "display_data"
    }
   ],
   "source": [
    "## Visualizing Atlanta since 1985\n",
    "bands = ['Red', 'Green', 'Blue']\n",
    "fname = 'vids/georgia-atlanta.gif'\n",
    "landsat_atlanta(bands, fname)"
   ]
  },
  {
   "cell_type": "markdown",
   "metadata": {},
   "source": [
    "![](vids/georgia-atlanta.gif)"
   ]
  },
  {
   "cell_type": "code",
   "execution_count": 6,
   "metadata": {},
   "outputs": [
    {
     "name": "stdout",
     "output_type": "stream",
     "text": [
      "Generating URL...\n",
      "Downloading GIF image from https://earthengine.googleapis.com/v1alpha/projects/earthengine-legacy/videoThumbnails/6494aa93a87fe4003ab36d2c35e4d4a8-f285e5f85caa458561708f20c6b89e5c:getPixels\n",
      "Please wait ...\n",
      "The GIF image has been saved to: /mnt/c/Users/adavi/Documents/comp-journal/ajc-satellite/vids/cherokee-landsat.gif\n"
     ]
    }
   ],
   "source": [
    "cherokee, _ = get_county_roi('Cherokee')\n",
    "bands = ['Red', 'Green', 'Blue']\n",
    "fname = 'vids/cherokee-landsat.gif'\n",
    "landsat_roi(cherokee, bands, fname)"
   ]
  },
  {
   "cell_type": "markdown",
   "metadata": {},
   "source": [
    "![](vids/cherokee-landsat.gif)"
   ]
  },
  {
   "cell_type": "code",
   "execution_count": 8,
   "metadata": {},
   "outputs": [
    {
     "name": "stdout",
     "output_type": "stream",
     "text": [
      "Generating URL...\n",
      "Downloading GIF image from https://earthengine.googleapis.com/v1alpha/projects/earthengine-legacy/videoThumbnails/cb798b342fac9fb4615d8a67645a9907-32089bd219e7330bdb29cf6f652168e7:getPixels\n",
      "Please wait ...\n",
      "The GIF image has been saved to: /mnt/c/Users/adavi/Documents/comp-journal/ajc-satellite/vids/georgia-atlanta-naip.gif\n"
     ]
    },
    {
     "data": {
      "application/vnd.jupyter.widget-view+json": {
       "model_id": "12d97ab6cc3e4564887decfcec16b0e8",
       "version_major": 2,
       "version_minor": 0
      },
      "text/plain": [
       "Output()"
      ]
     },
     "metadata": {},
     "output_type": "display_data"
    }
   ],
   "source": [
    "fname = 'vids/georgia-atlanta-naip.gif'\n",
    "naip_atlanta(fname)\n",
    "geemap.show_image(fname)"
   ]
  },
  {
   "cell_type": "markdown",
   "metadata": {},
   "source": [
    "![](vids/georgia-atlanta-naip.gif)"
   ]
  },
  {
   "cell_type": "code",
   "execution_count": 10,
   "metadata": {},
   "outputs": [],
   "source": [
    "#geemap.sentinel2_timelapse(\n",
    "#    roi = atlanta,\n",
    "#    out_gif = 'vids/georgia-atlanta-sentinel2.gif',\n",
    "#    start_year = 2015,\n",
    "#    end_year = 2021\n",
    "#)\n",
    "# Can also consider using sentinel images at some point\n",
    "#geemap.show_image('vids/georgia-atlanta-sentinel2.gif')"
   ]
  },
  {
   "cell_type": "code",
   "execution_count": 16,
   "metadata": {},
   "outputs": [
    {
     "name": "stdout",
     "output_type": "stream",
     "text": [
      "Generating URL...\n",
      "Downloading GIF image from https://earthengine.googleapis.com/v1alpha/projects/earthengine-legacy/videoThumbnails/8e7d876b138624c51f6ba167da29077a-9bf8861e9b9492aae3da09445097a764:getPixels\n",
      "Please wait ...\n",
      "The GIF image has been saved to: /mnt/c/Users/adavi/Documents/comp-journal/ajc-satellite/vids/georgia-atlanta-agriculture.gif\n"
     ]
    },
    {
     "data": {
      "application/vnd.jupyter.widget-view+json": {
       "model_id": "b6b73ee08f564d76a8bd5257b40e82d7",
       "version_major": 2,
       "version_minor": 0
      },
      "text/plain": [
       "Output()"
      ]
     },
     "metadata": {},
     "output_type": "display_data"
    }
   ],
   "source": [
    "bands = ['SWIR1', 'NIR', 'Blue']\n",
    "fname = 'vids/georgia-atlanta-agriculture.gif'\n",
    "landsat_atlanta(bands, fname)"
   ]
  },
  {
   "cell_type": "markdown",
   "metadata": {},
   "source": [
    "![](vids/georgia-atlanta-agriculture.gif)"
   ]
  },
  {
   "cell_type": "code",
   "execution_count": 17,
   "metadata": {},
   "outputs": [
    {
     "name": "stdout",
     "output_type": "stream",
     "text": [
      "Generating URL...\n",
      "Downloading GIF image from https://earthengine.googleapis.com/v1alpha/projects/earthengine-legacy/videoThumbnails/e89085f60a7c2b5e33f1ae14a9c58edb-27b5ff8734f92b505140180dde62bd90:getPixels\n",
      "Please wait ...\n",
      "The GIF image has been saved to: /mnt/c/Users/adavi/Documents/comp-journal/ajc-satellite/vids/georgia-ts-vegeation.gif\n"
     ]
    },
    {
     "data": {
      "application/vnd.jupyter.widget-view+json": {
       "model_id": "e15dbe8334af4bbdbf02d3fea8c116cc",
       "version_major": 2,
       "version_minor": 0
      },
      "text/plain": [
       "Output()"
      ]
     },
     "metadata": {},
     "output_type": "display_data"
    }
   ],
   "source": [
    "bands = ['NIR', 'Red', 'Green']\n",
    "fname = 'vids/georgia-atlanta-vegeation.gif'\n",
    "landsat_atlanta(bands, fname)"
   ]
  },
  {
   "cell_type": "markdown",
   "metadata": {},
   "source": [
    "![](vids/georgia-ts-vegeation.gif)"
   ]
  },
  {
   "cell_type": "code",
   "execution_count": 6,
   "metadata": {},
   "outputs": [
    {
     "name": "stdout",
     "output_type": "stream",
     "text": [
      "Generating URL...\n",
      "Downloading GIF image from https://earthengine.googleapis.com/v1alpha/projects/earthengine-legacy/videoThumbnails/54682b22ffff7bba1b09a75fef19f96e-986ae901d5e87400347028e80ebcaff8:getPixels\n",
      "Please wait ...\n",
      "The GIF image has been saved to: /mnt/c/Users/adavi/Documents/comp-journal/ajc-satellite/vids/georgia-atlanta-geology.gif\n"
     ]
    },
    {
     "data": {
      "application/vnd.jupyter.widget-view+json": {
       "model_id": "10b4ca9fc6204a88aa94ceedbfcc0de8",
       "version_major": 2,
       "version_minor": 0
      },
      "text/plain": [
       "Output()"
      ]
     },
     "metadata": {},
     "output_type": "display_data"
    }
   ],
   "source": [
    "bands = ['SWIR2', 'SWIR1', 'Blue']\n",
    "fname = 'vids/georgia-atlanta-geology.gif'\n",
    "landsat_atlanta(bands, fname)"
   ]
  },
  {
   "cell_type": "markdown",
   "metadata": {},
   "source": [
    "![](vids/georgia-atlanta-geology.gif)"
   ]
  },
  {
   "cell_type": "code",
   "execution_count": 4,
   "metadata": {},
   "outputs": [
    {
     "name": "stdout",
     "output_type": "stream",
     "text": [
      "Generating URL...\n",
      "Downloading GIF image from https://earthengine.googleapis.com/v1alpha/projects/earthengine-legacy/videoThumbnails/bdb09fdd7324703d396a3ca45beaad6f-c35316eb546caec9ce9c2575dd95c448:getPixels\n",
      "Please wait ...\n",
      "The GIF image has been saved to: /mnt/c/Users/adavi/Documents/comp-journal/ajc-satellite/vids/atlanta-nighttime.gif\n"
     ]
    },
    {
     "data": {
      "application/vnd.jupyter.widget-view+json": {
       "model_id": "f33106a8a95b4962a6aee17a61b19a18",
       "version_major": 2,
       "version_minor": 0
      },
      "text/plain": [
       "Output()"
      ]
     },
     "metadata": {},
     "output_type": "display_data"
    }
   ],
   "source": [
    "collection_virrs = geemap.create_timeseries(\n",
    "    collection = \"NOAA/VIIRS/DNB/MONTHLY_V1/VCMCFG\",\n",
    "    region = atlanta, \n",
    "    frequency = 'month',\n",
    "    start_date = '2012-04-01', \n",
    "    end_date = '2021-05-01'\n",
    ")\n",
    "\n",
    "video_args_virrs = {\n",
    "    'dimensions': 500,\n",
    "    'region': atlanta,\n",
    "    'framesPerSecond': 5,\n",
    "    'bands': ['avg_rad'],\n",
    "    'min': 0,\n",
    "    'max': 60,\n",
    "    'bestEffort': True,\n",
    "    'palette': ['000000', 'FFFFFF']\n",
    "}\n",
    "\n",
    "fname = 'vids/atlanta-nighttime.gif'\n",
    "\n",
    "dates_virrs = pd.date_range(\n",
    "    start = \"2012-04\", end = \"2021-05\", freq = \"M\"\n",
    "    ).strftime('%Y-%m').tolist()\n",
    "\n",
    "geemap.download_ee_video(\n",
    "    collection_virrs, video_args_virrs, fname\n",
    ")\n",
    "\n",
    "geemap.add_text_to_gif(\n",
    "    fname, fname, xy=('85%', '3%'), \n",
    "    text_sequence = dates_virrs[:-1], font_size = 20, \n",
    "    font_color = '#ffffff', \n",
    "    add_progress_bar = False\n",
    ")"
   ]
  },
  {
   "cell_type": "markdown",
   "metadata": {},
   "source": [
    "![](vids/atlanta-nighttime.gif)"
   ]
  },
  {
   "cell_type": "code",
   "execution_count": 9,
   "metadata": {},
   "outputs": [
    {
     "name": "stdout",
     "output_type": "stream",
     "text": [
      "Generating URL...\n",
      "Downloading GIF image from https://earthengine.googleapis.com/v1alpha/projects/earthengine-legacy/videoThumbnails/741305cf7a8b765ffd70f71cbb8524ce-70821455d8fcfd87354e4b62187f1369:getPixels\n",
      "Please wait ...\n",
      "The GIF image has been saved to: /mnt/c/Users/adavi/Documents/comp-journal/ajc-satellite/vids/georgia-atlanta-city.gif\n"
     ]
    }
   ],
   "source": [
    "bands = ['Red', 'Green', 'Blue']\n",
    "fname = 'vids/georgia-atlanta-city.gif'\n",
    "landsat_roi(atlanta_city, bands, fname)"
   ]
  },
  {
   "cell_type": "markdown",
   "metadata": {},
   "source": [
    "![](vids/georgia-atlanta-city.gif)\n",
    "![](vids/georgia-atlanta-city-geology.gif)"
   ]
  },
  {
   "cell_type": "code",
   "execution_count": null,
   "metadata": {},
   "outputs": [],
   "source": []
  }
 ],
 "metadata": {
  "interpreter": {
   "hash": "ce668f1025c9e579e5f550a78dca7093054cf2dff58a3b699600407db98f24f9"
  },
  "kernelspec": {
   "display_name": "Python 3.10.2 ('comp-journal')",
   "language": "python",
   "name": "python3"
  },
  "language_info": {
   "codemirror_mode": {
    "name": "ipython",
    "version": 3
   },
   "file_extension": ".py",
   "mimetype": "text/x-python",
   "name": "python",
   "nbconvert_exporter": "python",
   "pygments_lexer": "ipython3",
   "version": "3.10.2"
  },
  "orig_nbformat": 4
 },
 "nbformat": 4,
 "nbformat_minor": 2
}
