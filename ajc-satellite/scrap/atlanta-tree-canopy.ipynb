{
 "cells": [
  {
   "cell_type": "markdown",
   "metadata": {},
   "source": [
    "## Trying to approach the tree coverage through NASA imagery\n",
    "\n",
    "Earth Engine images to try and use:\n",
    "- [ASTER](https://developers.google.com/earth-engine/datasets/catalog/ASTER_AST_L1T_003#bands) - has\n",
    "yellow/blue, red and NIR bands at 15m per pixel, \n",
    "- [Sentinel-2](https://developers.google.com/earth-engine/datasets/catalog/COPERNICUS_S2_SR) - has\n",
    "visible wavelengths and NIR bands at 10m per pixel, 2017 onwards only\n",
    "\n",
    "Approach used by Georgia Tech for project with the city:\n",
    "- Used 4-band satellite imagery: Red, Green, Blue and Near IR bands\n",
    "- Description of two stage procedure - unsuperivsed classification for\n",
    "classification of \"Unsupervised classification is computer driven and automatically segregates \n",
    "image pixels into groups of similar spectral signatures. Supervised classification \n",
    "is a manual intervention in which the user creates training sets (spectral signatures) \n",
    "for known classes and applies them to the entire image.\"\n",
    "- Unsupervised classification uses the ISODATA algorithm (a modification of k-means)\n",
    "to cluster points together\n",
    "- Supervised classification - take existing known bands where trees/non-trees are,\n",
    "build a classifier, extend this to the whole data.\n",
    "- Reference of summary document: https://www.atlantaga.gov/Home/ShowDocument?id=14722\n",
    "- Reference of map: https://geospatial.gatech.edu/TreesAtlanta/"
   ]
  },
  {
   "cell_type": "code",
   "execution_count": null,
   "metadata": {},
   "outputs": [],
   "source": []
  }
 ],
 "metadata": {
  "interpreter": {
   "hash": "ce668f1025c9e579e5f550a78dca7093054cf2dff58a3b699600407db98f24f9"
  },
  "kernelspec": {
   "display_name": "Python 3.10.2 ('comp-journal')",
   "language": "python",
   "name": "python3"
  },
  "language_info": {
   "name": "python",
   "version": "3.10.2"
  },
  "orig_nbformat": 4
 },
 "nbformat": 4,
 "nbformat_minor": 2
}
