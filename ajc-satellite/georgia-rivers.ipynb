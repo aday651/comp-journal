{
 "cells": [
  {
   "cell_type": "markdown",
   "metadata": {},
   "source": [
    "High level idea: use satellite imagery to explore Georgia's rivers and\n",
    "sink basins, and see how they have been affected over the years, particularly\n",
    "when considering the build up of urban centers near these areas.\n",
    "\n",
    "Some sources/links:\n",
    "- https://www.americanrivers.org/conservation-resource/running-dry-flint/"
   ]
  },
  {
   "cell_type": "code",
   "execution_count": 22,
   "metadata": {},
   "outputs": [],
   "source": [
    "import ee\n",
    "import geemap\n",
    "import pandas as pd\n",
    "import geopandas as gpd\n",
    "\n",
    "ee.Initialize()\n",
    "\n",
    "def pd_shp_to_ee_poly(shp):\n",
    "    \"\"\"Converts Polygon from GeoPandas to a ee.Geometry.Polygon\n",
    "    object suitable for use within Google Earth Engine.\"\"\"\n",
    "    xs, ys = shp.exterior.coords.xy\n",
    "    shp_list = [[x, y] for x, y in zip(xs, ys)]\n",
    "    roi = ee.Geometry.Polygon(shp_list, None, False)\n",
    "    return roi\n",
    "\n",
    "\n",
    "def get_county_roi(county_name):\n",
    "    \"\"\"Returns a ee.Geometry.Polygon object representing\n",
    "    a particular county within Georgia, along with the\n",
    "    centroid of that object.\"\"\"\n",
    "    ga_counties = gpd.read_file(\"ga-counties/Counties_Georgia.shp\")\n",
    "    county_shp = ga_counties[ga_counties[\"NAME10\"] == county_name].geometry.values[0]\n",
    "    xs, ys = county_shp.centroid.coords.xy\n",
    "    county_roi = pd_shp_to_ee_poly(county_shp).simplify(maxError = 1)\n",
    "\n",
    "    return county_roi, (xs[0], ys[0])\n",
    "\n",
    "\n",
    "def union_polygons(poly_ls):\n",
    "    basePoly = poly_ls[0]\n",
    "    for poly in poly_ls[1:]:\n",
    "        basePoly = basePoly.union(poly, maxError = 1)\n",
    "\n",
    "    return basePoly\n",
    "\n",
    "\n",
    "def landsat_roi(roi, bands, fname):\n",
    "    collection = geemap.landsat_timeseries(\n",
    "        roi = roi, \n",
    "        start_year = 1985, end_year = 2021, \n",
    "        start_date = '06-10', end_date = '09-20'\n",
    "    )\n",
    "\n",
    "    video_args = {\n",
    "        'dimensions': 768,\n",
    "        'region': roi,\n",
    "        'framesPerSecond': 2,\n",
    "        'bands': bands,\n",
    "        'min': 0,\n",
    "        'max': 4000,\n",
    "        'gamma': [1, 1, 1]\n",
    "    }\n",
    "\n",
    "    geemap.download_ee_video(collection, video_args, fname)\n",
    "    geemap.add_text_to_gif(\n",
    "        fname, fname, xy=('92%', '3%'), \n",
    "        text_sequence = 1985, font_size = 20, \n",
    "        font_color = '#ffffff', \n",
    "        add_progress_bar = False\n",
    "    )\n",
    "\n",
    "county_list = [\n",
    "    'Camden', 'Glynn', 'McIntosh', 'Liberty',\n",
    "    'Bryan', 'Chatham'\n",
    "]\n",
    "\n",
    "ga_counties = gpd.read_file(\"ga-counties/Counties_Georgia.shp\")\n",
    "poly_list = []\n",
    "\n",
    "for county in county_list:\n",
    "    county_shp = ga_counties[ga_counties[\"NAME10\"] == county].geometry.values[0]\n",
    "    poly_list.append(pd_shp_to_ee_poly(county_shp).simplify(maxError = 1))\n",
    "\n",
    "coast = union_polygons(poly_list).simplify(maxError = 1)"
   ]
  },
  {
   "cell_type": "code",
   "execution_count": 23,
   "metadata": {},
   "outputs": [
    {
     "name": "stdout",
     "output_type": "stream",
     "text": [
      "Generating URL...\n",
      "Downloading GIF image from https://earthengine.googleapis.com/v1alpha/projects/earthengine-legacy/videoThumbnails/b8464248ccc2a2feac5b37f32824e3d9-39fa3787c60796b7b1a4ff5d0580e11a:getPixels\n",
      "Please wait ...\n",
      "The GIF image has been saved to: /mnt/c/Users/adavi/Documents/comp-journal/ajc-satellite/vids/coast-plain.gif\n"
     ]
    }
   ],
   "source": [
    "bands = ['Red', 'Green', 'Blue']\n",
    "fname = 'vids/coast-plain.gif'\n",
    "landsat_roi(coast, bands, fname)"
   ]
  },
  {
   "cell_type": "markdown",
   "metadata": {},
   "source": [
    "![](/mnt/c/Users/adavi/Documents/comp-journal/ajc-satellite/vids/coast-plain.gif)"
   ]
  },
  {
   "cell_type": "code",
   "execution_count": 24,
   "metadata": {},
   "outputs": [
    {
     "name": "stdout",
     "output_type": "stream",
     "text": [
      "Generating URL...\n",
      "Downloading GIF image from https://earthengine.googleapis.com/v1alpha/projects/earthengine-legacy/videoThumbnails/4309302a22a74cabb58f2734bd3a0bea-630a04a44e767a185e09bc8c7d5ec3e2:getPixels\n",
      "Please wait ...\n",
      "The GIF image has been saved to: /mnt/c/Users/adavi/Documents/comp-journal/ajc-satellite/vids/coast-geology.gif\n"
     ]
    }
   ],
   "source": [
    "bands = ['SWIR2', 'SWIR1', 'Blue']\n",
    "fname = 'vids/coast-geology.gif'\n",
    "landsat_roi(coast, bands, fname)"
   ]
  },
  {
   "cell_type": "markdown",
   "metadata": {},
   "source": [
    "![](/mnt/c/Users/adavi/Documents/comp-journal/ajc-satellite/vids/coast-geology.gif)"
   ]
  },
  {
   "cell_type": "code",
   "execution_count": 25,
   "metadata": {},
   "outputs": [],
   "source": [
    "# Lake Sidney Lanier\n",
    "lake_sidney = ee.Geometry.Polygon(\n",
    "    [[-84.1484070, 34.4408936],\n",
    "    [-83.7007141, 34.4488212],\n",
    "    [-83.6924744, 34.1072564],\n",
    "    [-84.1525269, 34.1049822]], None, False\n",
    ")\n",
    "\n",
    "savannah_basin_1 = ee.Geometry.Polygon(\n",
    "    [[-82.6158142, 33.8829573],\n",
    "    [-82.0925903, 33.9194319],\n",
    "    [-82.0582581, 33.5734381],\n",
    "    [-82.5856018, 33.5242237]], None, False\n",
    ")\n",
    "\n",
    "savannah_basin_2 = ee.Geometry.Polygon(\n",
    "    [[-83.1266785, 34.5993024],\n",
    "    [-83.1307983, 34.2980684],\n",
    "    [-82.6089478, 34.3264260],\n",
    "    [-82.6295471, 34.6173871]], None, False\n",
    ")"
   ]
  },
  {
   "cell_type": "code",
   "execution_count": 26,
   "metadata": {},
   "outputs": [
    {
     "name": "stdout",
     "output_type": "stream",
     "text": [
      "Generating URL...\n",
      "Downloading GIF image from https://earthengine.googleapis.com/v1alpha/projects/earthengine-legacy/videoThumbnails/b89937de75eb83e8f4bbcf4e0de1586e-47eaaaaf487b700810387ee08bb43029:getPixels\n",
      "Please wait ...\n",
      "The GIF image has been saved to: /mnt/c/Users/adavi/Documents/comp-journal/ajc-satellite/vids/lake-sidney-geology.gif\n"
     ]
    }
   ],
   "source": [
    "bands = ['SWIR2', 'SWIR1', 'Blue']\n",
    "fname = 'vids/lake-sidney-geology.gif'\n",
    "landsat_roi(lake_sidney, bands, fname)"
   ]
  },
  {
   "cell_type": "markdown",
   "metadata": {},
   "source": [
    "![](/mnt/c/Users/adavi/Documents/comp-journal/ajc-satellite/vids/lake-sidney-geology.gif)"
   ]
  },
  {
   "cell_type": "code",
   "execution_count": 27,
   "metadata": {},
   "outputs": [
    {
     "name": "stdout",
     "output_type": "stream",
     "text": [
      "Generating URL...\n",
      "Downloading GIF image from https://earthengine.googleapis.com/v1alpha/projects/earthengine-legacy/videoThumbnails/cae24e4caaa320044daf3134bc4f08ec-15c2a54cff5aa51eff83ffd1cda70601:getPixels\n",
      "Please wait ...\n",
      "The GIF image has been saved to: /mnt/c/Users/adavi/Documents/comp-journal/ajc-satellite/vids/savannah-basin-1-geology.gif\n"
     ]
    }
   ],
   "source": [
    "bands = ['SWIR2', 'SWIR1', 'Blue']\n",
    "fname = 'vids/savannah-basin-1-geology.gif'\n",
    "landsat_roi(savannah_basin_1, bands, fname)"
   ]
  },
  {
   "cell_type": "markdown",
   "metadata": {},
   "source": [
    "![sas](/mnt/c/Users/adavi/Documents/comp-journal/ajc-satellite/vids/savannah-basin-1-geology.gif)"
   ]
  },
  {
   "cell_type": "code",
   "execution_count": 28,
   "metadata": {},
   "outputs": [
    {
     "name": "stdout",
     "output_type": "stream",
     "text": [
      "Generating URL...\n",
      "Downloading GIF image from https://earthengine.googleapis.com/v1alpha/projects/earthengine-legacy/videoThumbnails/447debd82878e35f9a1f9bc4e0235446-023c0046cc431f6a99f227ae404dca71:getPixels\n",
      "Please wait ...\n",
      "The GIF image has been saved to: /mnt/c/Users/adavi/Documents/comp-journal/ajc-satellite/vids/savannah-basin-2-geology.gif\n"
     ]
    }
   ],
   "source": [
    "bands = ['SWIR2', 'SWIR1', 'Blue']\n",
    "fname = 'vids/savannah-basin-2-geology.gif'\n",
    "landsat_roi(savannah_basin_2, bands, fname)"
   ]
  },
  {
   "cell_type": "markdown",
   "metadata": {},
   "source": [
    "![](/mnt/c/Users/adavi/Documents/comp-journal/ajc-satellite/vids/savannah-basin-2-geology.gif)"
   ]
  },
  {
   "cell_type": "code",
   "execution_count": 29,
   "metadata": {},
   "outputs": [
    {
     "name": "stdout",
     "output_type": "stream",
     "text": [
      "Generating URL...\n",
      "Downloading GIF image from https://earthengine.googleapis.com/v1alpha/projects/earthengine-legacy/videoThumbnails/447debd82878e35f9a1f9bc4e0235446-6767ceaf7c13cc4b58296b837a8f59b6:getPixels\n",
      "Please wait ...\n",
      "The GIF image has been saved to: /mnt/c/Users/adavi/Documents/comp-journal/ajc-satellite/vids/flint-geology.gif\n"
     ]
    }
   ],
   "source": [
    "flint_river = ee.Geometry.Polygon(\n",
    "    [[-84.9909210, 30.8933867],\n",
    "    [-84.9943542, 30.6869354],\n",
    "    [-84.5933533, 30.6774871],\n",
    "    [-84.6063995, 30.9010464]], None, False\n",
    ")\n",
    "\n",
    "bands = ['SWIR2', 'SWIR1', 'Blue']\n",
    "fname = 'vids/flint-geology.gif'\n",
    "landsat_roi(savannah_basin_2, bands, fname)"
   ]
  },
  {
   "cell_type": "markdown",
   "metadata": {},
   "source": [
    "![savannah_basin](/mnt/c/Users/adavi/Documents/comp-journal/ajc-satellite/vids/flint-geology.gif)"
   ]
  },
  {
   "cell_type": "code",
   "execution_count": 33,
   "metadata": {},
   "outputs": [
    {
     "name": "stdout",
     "output_type": "stream",
     "text": [
      "Generating URL...\n",
      "Total request size (145626624 pixels) must be less than or equal to 26214400 pixels.\n"
     ]
    }
   ],
   "source": [
    "collection = geemap.create_timeseries(\n",
    "    collection = ee.ImageCollection('JRC/GSW1_3/MonthlyHistory'),\n",
    "    start_date = \"1984-03-16\",\n",
    "    end_date = \"2021-01-01\",\n",
    "    region = flint_river,\n",
    "    bands = \"water\",\n",
    "    frequency = \"month\"\n",
    ")\n",
    "\n",
    "video_args = {\n",
    "    'dimensions': 768,\n",
    "    'region': flint_river,\n",
    "    'framesPerSecond': 6,\n",
    "    'bands': ['water'],\n",
    "    'min': 0.0,\n",
    "    'max': 2.0,\n",
    "    'palette': ['ffffff', 'fffcb8', '0905ff'],\n",
    "    'bestEffort': True\n",
    "}\n",
    "\n",
    "fname = \"vids/flint-monthly-recurrence.gif\"\n",
    "geemap.download_ee_video(collection, video_args, fname)\n",
    "# geemap.add_text_to_gif(\n",
    "#     fname, fname, xy=('92%', '3%'), \n",
    "#     text_sequence = 1985, font_size = 20, \n",
    "#     font_color = '#ffffff', \n",
    "#     add_progress_bar = False\n",
    "# )"
   ]
  },
  {
   "cell_type": "markdown",
   "metadata": {},
   "source": [
    "![flint](/mnt/c/Users/adavi/Documents/comp-journal/ajc-satellite/vids/flint-monthly-recurrence.gif)"
   ]
  }
 ],
 "metadata": {
  "interpreter": {
   "hash": "ce668f1025c9e579e5f550a78dca7093054cf2dff58a3b699600407db98f24f9"
  },
  "kernelspec": {
   "display_name": "Python 3.10.2 ('comp-journal')",
   "language": "python",
   "name": "python3"
  },
  "language_info": {
   "codemirror_mode": {
    "name": "ipython",
    "version": 3
   },
   "file_extension": ".py",
   "mimetype": "text/x-python",
   "name": "python",
   "nbconvert_exporter": "python",
   "pygments_lexer": "ipython3",
   "version": "3.10.2"
  },
  "orig_nbformat": 4
 },
 "nbformat": 4,
 "nbformat_minor": 2
}
