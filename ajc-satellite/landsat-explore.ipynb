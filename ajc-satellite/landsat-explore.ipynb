{
 "cells": [
  {
   "cell_type": "code",
   "execution_count": 1,
   "metadata": {},
   "outputs": [],
   "source": [
    "import ee\n",
    "import geemap"
   ]
  },
  {
   "cell_type": "code",
   "execution_count": 2,
   "metadata": {},
   "outputs": [],
   "source": [
    "ee.Initialize()"
   ]
  },
  {
   "cell_type": "code",
   "execution_count": 4,
   "metadata": {},
   "outputs": [],
   "source": [
    "import geopandas as gpd\n",
    "\n",
    "shapefile = gpd.read_file(\"ga-boundary/ga.shp\")\n",
    "shp = shapefile.geometry[0]\n",
    "xs, ys = shp.exterior.coords.xy\n",
    "shp_list = [[x, y] for x, y in zip(xs, ys)]\n",
    "roi = ee.Geometry.Polygon(shp_list, None, False)"
   ]
  },
  {
   "cell_type": "code",
   "execution_count": 9,
   "metadata": {},
   "outputs": [],
   "source": [
    "def export_video(roi, collection, bands, fname):\n",
    "    video_args = {\n",
    "        'dimensions': 768,\n",
    "        'region': roi,\n",
    "        'framesPerSecond': 5,\n",
    "        'bands': bands,\n",
    "        'min': 0,\n",
    "        'max': 4000,\n",
    "        'gamma': [1, 1, 1]\n",
    "    }\n",
    "\n",
    "    geemap.download_ee_video(collection, video_args, fname)\n",
    "    geemap.add_text_to_gif(\n",
    "        fname, fname, xy=('92%', '3%'), \n",
    "        text_sequence = 1985, font_size = 20, \n",
    "        font_color = '#ffffff', \n",
    "        add_progress_bar = False\n",
    "    )\n",
    "    geemap.show_image(fname)"
   ]
  },
  {
   "cell_type": "code",
   "execution_count": 10,
   "metadata": {},
   "outputs": [
    {
     "name": "stdout",
     "output_type": "stream",
     "text": [
      "Generating URL...\n",
      "Downloading GIF image from https://earthengine.googleapis.com/v1alpha/projects/earthengine-legacy/videoThumbnails/528d0ed96644f32e614bd4b6452113b0-40046179d1395459d2622b3b047d1c03:getPixels\n",
      "Please wait ...\n",
      "The GIF image has been saved to: /mnt/c/Users/adavi/Documents/comp-journal/ajc-satellite/vids/georgia-ts-summer.gif\n"
     ]
    },
    {
     "data": {
      "application/vnd.jupyter.widget-view+json": {
       "model_id": "b729ecd6b90c439f9861eed4185efc20",
       "version_major": 2,
       "version_minor": 0
      },
      "text/plain": [
       "Output()"
      ]
     },
     "metadata": {},
     "output_type": "display_data"
    }
   ],
   "source": [
    "collection = geemap.landsat_timeseries(\n",
    "    roi = roi, \n",
    "    start_year = 1985, end_year = 2019, \n",
    "    start_date = '06-10', end_date = '09-20'\n",
    ")\n",
    "\n",
    "bands = ['Red', 'Green', 'Blue']\n",
    "fname = 'vids/georgia-ts-summer.gif'\n",
    "\n",
    "export_video(collection, bands, fname)"
   ]
  },
  {
   "cell_type": "code",
   "execution_count": 11,
   "metadata": {},
   "outputs": [
    {
     "name": "stdout",
     "output_type": "stream",
     "text": [
      "Generating URL...\n",
      "Downloading GIF image from https://earthengine.googleapis.com/v1alpha/projects/earthengine-legacy/videoThumbnails/354f62a66fbb953e5a6988fba925e4c1-f4303bdb02733b6efd1c5c20fd42ed7e:getPixels\n",
      "Please wait ...\n",
      "The GIF image has been saved to: /mnt/c/Users/adavi/Documents/comp-journal/ajc-satellite/vids/georgia-ts-vegeation.gif\n"
     ]
    },
    {
     "data": {
      "application/vnd.jupyter.widget-view+json": {
       "model_id": "850488e887564a2db055f85cf5666733",
       "version_major": 2,
       "version_minor": 0
      },
      "text/plain": [
       "Output()"
      ]
     },
     "metadata": {},
     "output_type": "display_data"
    }
   ],
   "source": [
    "bands = ['NIR', 'Red', 'Green']\n",
    "fname = 'vids/georgia-ts-vegeation.gif'\n",
    "\n",
    "export_video(collection, bands, fname)"
   ]
  },
  {
   "cell_type": "code",
   "execution_count": 13,
   "metadata": {},
   "outputs": [
    {
     "name": "stdout",
     "output_type": "stream",
     "text": [
      "Generating URL...\n",
      "Downloading GIF image from https://earthengine.googleapis.com/v1alpha/projects/earthengine-legacy/videoThumbnails/9c812b9e3013b316232d53b98a8a2491-a868378d0c379a3c78e71a8e8aa7d626:getPixels\n",
      "Please wait ...\n",
      "The GIF image has been saved to: /mnt/c/Users/adavi/Documents/comp-journal/ajc-satellite/vids/georgia-ts-agriculture.gif\n"
     ]
    },
    {
     "data": {
      "application/vnd.jupyter.widget-view+json": {
       "model_id": "65ba960d2f3948f4b2a853ddc4fa2488",
       "version_major": 2,
       "version_minor": 0
      },
      "text/plain": [
       "Output()"
      ]
     },
     "metadata": {},
     "output_type": "display_data"
    }
   ],
   "source": [
    "bands = ['SWIR1', 'NIR', 'Blue']\n",
    "fname = 'vids/georgia-ts-agriculture.gif'\n",
    "\n",
    "export_video(collection, bands, fname)"
   ]
  },
  {
   "cell_type": "code",
   "execution_count": 7,
   "metadata": {},
   "outputs": [
    {
     "name": "stdout",
     "output_type": "stream",
     "text": [
      "Generating URL...\n",
      "Downloading GIF image from https://earthengine.googleapis.com/v1alpha/projects/earthengine-legacy/videoThumbnails/9f3a9cd1535f704afb257ea462bc48df-368312f103ff08a44f0e76842731f06a:getPixels\n",
      "Please wait ...\n",
      "The GIF image has been saved to: /mnt/c/Users/adavi/Documents/comp-journal/ajc-satellite/vids/georgia-ts-winter.gif\n"
     ]
    },
    {
     "data": {
      "application/vnd.jupyter.widget-view+json": {
       "model_id": "26eedd87507f4ff5ab8f982896a38569",
       "version_major": 2,
       "version_minor": 0
      },
      "text/plain": [
       "Output()"
      ]
     },
     "metadata": {},
     "output_type": "display_data"
    }
   ],
   "source": [
    "collection = geemap.landsat_timeseries(\n",
    "    roi = roi, \n",
    "    start_year = 1985, end_year = 2019, \n",
    "    start_date = '01-01', end_date = '03-28'\n",
    ")\n",
    "\n",
    "bands = ['Red', 'Green', 'Blue']\n",
    "fname = 'vids/georgia-ts-winter.gif'\n",
    "\n",
    "export_video(collection, bands, fname)"
   ]
  },
  {
   "cell_type": "code",
   "execution_count": 24,
   "metadata": {},
   "outputs": [
    {
     "name": "stdout",
     "output_type": "stream",
     "text": [
      "Generating URL...\n",
      "Downloading GIF image from https://earthengine.googleapis.com/v1alpha/projects/earthengine-legacy/videoThumbnails/5c65ca971a58b20ec00a59bdcdef701a-f63a3ada250bc5eabdc2d2e62375a496:getPixels\n",
      "Please wait ...\n",
      "The GIF image has been saved to: /mnt/c/Users/adavi/Documents/comp-journal/ajc-satellite/vids/georgia-ts-nighttime-1.gif\n",
      "Generating URL...\n",
      "Downloading GIF image from https://earthengine.googleapis.com/v1alpha/projects/earthengine-legacy/videoThumbnails/5e6365730ea63b6b279c2912cc0782df-86f62b86d405e76a9e369cf234fac26c:getPixels\n",
      "Please wait ...\n",
      "The GIF image has been saved to: /mnt/c/Users/adavi/Documents/comp-journal/ajc-satellite/vids/georgia-ts-nighttime-2.gif\n",
      "The length of the text sequence must be equal to the number (10) of frames in the gif.\n"
     ]
    },
    {
     "name": "stderr",
     "output_type": "stream",
     "text": [
      "sh: 1: gifsicle: not found\n"
     ]
    },
    {
     "data": {
      "application/vnd.jupyter.widget-view+json": {
       "model_id": "da66c993f9d549ca99a13b8f28cdc760",
       "version_major": 2,
       "version_minor": 0
      },
      "text/plain": [
       "Output()"
      ]
     },
     "metadata": {},
     "output_type": "display_data"
    }
   ],
   "source": [
    "# https://developers.google.com/earth-engine/datasets/catalog/NOAA_VIIRS_DNB_MONTHLY_V1_VCMCFG#bands\n",
    "# ee.ImageCollection(\"NOAA/DMSP-OLS/NIGHTTIME_LIGHTS\")\n",
    "import pandas as pd\n",
    "\n",
    "collection_dmsp = geemap.create_timeseries(\n",
    "    collection = \"NOAA/DMSP-OLS/NIGHTTIME_LIGHTS\",\n",
    "    region = roi,\n",
    "    frequency = 'month',\n",
    "    start_date = '2003-01-01',\n",
    "    end_date = '2012-04-01'\n",
    ")\n",
    "\n",
    "collection_virrs = geemap.create_timeseries(\n",
    "    collection = \"NOAA/VIIRS/DNB/MONTHLY_V1/VCMCFG\",\n",
    "    region = roi, \n",
    "    frequency = 'month',\n",
    "    start_date = '2012-04-01', \n",
    "    end_date = '2021-05-01'\n",
    ")\n",
    "\n",
    "video_args_dmsp = {\n",
    "    'dimensions': 500,\n",
    "    'region': roi,\n",
    "    'framesPerSecond': 7,\n",
    "    'bands': ['stable_lights'],\n",
    "    'min': 0,\n",
    "    'max': 60,\n",
    "    'bestEffort': True,\n",
    "    'palette': ['000000', 'FFFFFF']\n",
    "}\n",
    "\n",
    "video_args_virrs = {\n",
    "    'dimensions': 500,\n",
    "    'region': roi,\n",
    "    'framesPerSecond': 7,\n",
    "    'bands': ['avg_rad'],\n",
    "    'min': 0,\n",
    "    'max': 60,\n",
    "    'bestEffort': True,\n",
    "    'palette': ['000000', 'FFFFFF']\n",
    "}\n",
    "\n",
    "geemap.download_ee_video(collection_dmsp, video_args_dmsp, 'vids/georgia-ts-nighttime-1.gif')\n",
    "geemap.download_ee_video(collection_virrs, video_args_virrs, 'vids/georgia-ts-nighttime-2.gif')\n",
    "\n",
    "dates_dmsp = pd.date_range(start = \"2003-01\", end = \"2012-04\", freq = \"M\").strftime('%Y-%m').tolist()\n",
    "dates_virrs = pd.date_range(start = \"2012-04\", end = \"2021-05\", freq = \"M\").strftime('%Y-%m').tolist()\n",
    "\n",
    "geemap.add_text_to_gif(\n",
    "    'vids/georgia-ts-nighttime-1.gif', 'vids/georgia-ts-nighttime-1.gif', xy=('85%', '3%'), \n",
    "    text_sequence = dates_dmsp[:-1], font_size = 20, \n",
    "    font_color = '#ffffff', \n",
    "    add_progress_bar = False\n",
    ")\n",
    "\n",
    "geemap.add_text_to_gif(\n",
    "    'vids/georgia-ts-nighttime-2.gif', 'vids/georgia-ts-nighttime-2.gif', xy=('85%', '3%'), \n",
    "    text_sequence = dates_virrs[:-1], font_size = 20, \n",
    "    font_color = '#ffffff', \n",
    "    add_progress_bar = False\n",
    ")\n",
    "\n",
    "#geemap.merge_gifs(['vids/georgia-ts-nighttime-1.gif', 'vids/georgia-ts-nighttime-2.gif'], 'vids/georgia-ts-nighttime.gif')\n",
    "#geemap.show_image('vids/georgia-ts-nighttime')"
   ]
  },
  {
   "cell_type": "code",
   "execution_count": null,
   "metadata": {},
   "outputs": [],
   "source": [
    "# Look at bacon county\n",
    "# Visualize only blueberry, \n",
    "# https://developers.google.com/earth-engine/datasets/catalog/USDA_NASS_CDL#bands\n",
    "# "
   ]
  },
  {
   "cell_type": "markdown",
   "metadata": {},
   "source": [
    "Some questions to explore:\n",
    "- Blueberry farming changing to peach farming - find some areas where this has been happening, look\n",
    "at them a lot more closely\n",
    "- \n",
    "- Atlanta - zoom into Atlanta and the surrounding counties - changes over time?\n",
    "- Focus onto the coast: changing coastline?\n",
    "- Look at rivers for any shrinkage: Flint, Ogeechee, Satilla, St. Marys, and Suwannee\n",
    "\n",
    "Todo list:\n",
    "- Get regions of interest (Atlanta and surrounding counties, Bacon county, counties on the ocean) \n",
    "- Figure out how to do overlay of different counties on the visualizations; \n",
    "see if these can be exported as .mp4 with more pixels\n",
    "- Understand spatial resolution (maybe zoom and look at the AJC office to figure this out, and\n",
    "also around Morningside Heights too)\n",
    "- ACS: look at the demographics with Bacon county over time, also Atlanta/surrounding counties"
   ]
  }
 ],
 "metadata": {
  "interpreter": {
   "hash": "ce668f1025c9e579e5f550a78dca7093054cf2dff58a3b699600407db98f24f9"
  },
  "kernelspec": {
   "display_name": "Python 3.10.2 ('comp-journal')",
   "language": "python",
   "name": "python3"
  },
  "language_info": {
   "codemirror_mode": {
    "name": "ipython",
    "version": 3
   },
   "file_extension": ".py",
   "mimetype": "text/x-python",
   "name": "python",
   "nbconvert_exporter": "python",
   "pygments_lexer": "ipython3",
   "version": "3.10.2"
  },
  "orig_nbformat": 4
 },
 "nbformat": 4,
 "nbformat_minor": 2
}
