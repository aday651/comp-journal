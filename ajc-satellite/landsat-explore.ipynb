{
 "cells": [
  {
   "cell_type": "code",
   "execution_count": 1,
   "metadata": {},
   "outputs": [],
   "source": [
    "import os\n",
    "import ee\n",
    "import geemap"
   ]
  },
  {
   "cell_type": "code",
   "execution_count": 3,
   "metadata": {},
   "outputs": [],
   "source": [
    "ee.Initialize()"
   ]
  },
  {
   "cell_type": "code",
   "execution_count": 55,
   "metadata": {},
   "outputs": [],
   "source": [
    "import geopandas as gpd\n",
    "\n",
    "shapefile = gpd.read_file(\"ga-boundary/ga.shp\")\n",
    "shp = shapefile.geometry[0]\n",
    "xs, ys = shp.exterior.coords.xy\n",
    "shp_list = [[x, y] for x, y in zip(xs, ys)]\n",
    "roi = ee.Geometry.Polygon(shp_list, None, False)"
   ]
  },
  {
   "cell_type": "code",
   "execution_count": 56,
   "metadata": {},
   "outputs": [
    {
     "name": "stdout",
     "output_type": "stream",
     "text": [
      "Generating URL...\n",
      "Downloading GIF image from https://earthengine.googleapis.com/v1alpha/projects/earthengine-legacy/videoThumbnails/a47716b9bd26a0d63fff8293ce1fb79e-4132e607d7970974819ac4fbe8c7fabc:getPixels\n",
      "Please wait ...\n",
      "The GIF image has been saved to: /mnt/c/Users/adavi/Documents/comp-journal/ajc-satellite/georgia_ts.gif\n"
     ]
    },
    {
     "data": {
      "application/vnd.jupyter.widget-view+json": {
       "model_id": "79c78a8e3ed34a0d9219a5f0a761caae",
       "version_major": 2,
       "version_minor": 0
      },
      "text/plain": [
       "Output()"
      ]
     },
     "metadata": {},
     "output_type": "display_data"
    }
   ],
   "source": [
    "collection = geemap.landsat_timeseries(\n",
    "    roi = roi, \n",
    "    start_year = 1985, end_year = 2019, \n",
    "    start_date = '06-10', end_date = '09-20'\n",
    ")\n",
    "\n",
    "video_args = {\n",
    "  'dimensions': 768,\n",
    "  'region': roi,\n",
    "  'framesPerSecond': 10,\n",
    "  'bands': ['Red', 'Green', 'Blue'],\n",
    "  'min': 0,\n",
    "  'max': 4000,\n",
    "  'gamma': [1, 1, 1]\n",
    "}\n",
    "\n",
    "geemap.download_ee_video(collection, video_args, 'georgia-ts.gif')\n",
    "geemap.show_image('georgia-ts.gif')"
   ]
  }
 ],
 "metadata": {
  "interpreter": {
   "hash": "ce668f1025c9e579e5f550a78dca7093054cf2dff58a3b699600407db98f24f9"
  },
  "kernelspec": {
   "display_name": "Python 3.10.2 ('comp-journal')",
   "language": "python",
   "name": "python3"
  },
  "language_info": {
   "codemirror_mode": {
    "name": "ipython",
    "version": 3
   },
   "file_extension": ".py",
   "mimetype": "text/x-python",
   "name": "python",
   "nbconvert_exporter": "python",
   "pygments_lexer": "ipython3",
   "version": "3.10.2"
  },
  "orig_nbformat": 4
 },
 "nbformat": 4,
 "nbformat_minor": 2
}
